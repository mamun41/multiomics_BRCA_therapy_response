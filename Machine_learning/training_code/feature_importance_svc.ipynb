{
  "nbformat": 4,
  "nbformat_minor": 0,
  "metadata": {
    "colab": {
      "provenance": []
    },
    "kernelspec": {
      "name": "python3",
      "display_name": "Python 3"
    },
    "language_info": {
      "name": "python"
    }
  },
  "cells": [
    {
      "cell_type": "code",
      "execution_count": null,
      "metadata": {
        "colab": {
          "base_uri": "https://localhost:8080/"
        },
        "id": "0dXidSH3H2lB",
        "outputId": "602204df-46d5-4526-fd80-37d3816f1579"
      },
      "outputs": [
        {
          "output_type": "stream",
          "name": "stdout",
          "text": [
            "Mounted at /content/gdrive\n"
          ]
        }
      ],
      "source": [
        "from google.colab import drive\n",
        "drive.mount('/content/gdrive')"
      ]
    },
    {
      "cell_type": "code",
      "source": [
        "import pandas as pd\n",
        "df = pd.read_csv('/content/gdrive/MyDrive/all.csv')\n",
        "df=df[[\"ESR1.log2.tpm\" ,\"PGR.log2.tpm\" , \"IL12RB2\",\"HORMAD1\",\"LEMD1\",\"AGR3\",\"GFRA1\",\"ANTXRL\",'NXNL2',\"SPATA4\",'RNF182',\n",
        "      \"TP53\"  , \"COL5A1\", \"GATA3\",'LYST',\n",
        "      \"Danaher.Mast.cells\" , \"Act.CD4\"  , \"MDSC\",'NK cells','Tem.CD8','CD8 T cells',\"Danaher.Neutrophils\",\"Danaher.NK.cells\",\"Monocytic lineage\" ,'Danaher.Exhausted.CD8','Danaher.CD8.T.cells','Cytotoxic lymphocytes','Danaher.Cytotoxic.cells',\n",
        "      \"Taxane.FinalScore\",\"Swanton.PaclitaxelScore\", \"Taxane.MitosisScore\" ,\"Swanton.MitosisScore\" ,\n",
        "                                     'IDO1','TIDE.TAM.M2',\"ESC.ssgsea.notnorm\",\"ESC.ssgsea.norm\"        \n",
        ",\"GGI.ssgsea.notnorm\",\"resp.pCR\"]]"
      ],
      "metadata": {
        "id": "H3CDO7xiH9nI"
      },
      "execution_count": null,
      "outputs": []
    },
    {
      "cell_type": "code",
      "source": [
        "X=df.iloc[:,0:-1]\n",
        "y=df.iloc[:,-1]"
      ],
      "metadata": {
        "id": "QuPRgVf-IBkF"
      },
      "execution_count": null,
      "outputs": []
    },
    {
      "cell_type": "code",
      "source": [
        "from sklearn.datasets import load_breast_cancer\n",
        "from sklearn.ensemble import RandomForestClassifier, VotingClassifier\n",
        "from sklearn.linear_model import LogisticRegression\n",
        "from sklearn.metrics import accuracy_score,roc_auc_score\n",
        "from sklearn.svm import SVC\n",
        "from sklearn.model_selection import train_test_split\n",
        "import numpy as np\n",
        "import pandas as pd\n",
        "from sklearn.base import BaseEstimator, TransformerMixin, RegressorMixin, clone\n",
        "from sklearn.preprocessing import StandardScaler\n",
        "from sklearn.feature_selection import SelectKBest, f_classif\n",
        "from sklearn.pipeline import Pipeline\n",
        "from sklearn.model_selection import RandomizedSearchCV\n",
        "from sklearn.model_selection import StratifiedKFold, RandomizedSearchCV\n",
        "from sklearn.ensemble import RandomForestClassifier\n",
        "from sklearn.datasets import make_classification"
      ],
      "metadata": {
        "id": "vrCo2WD_ID44"
      },
      "execution_count": null,
      "outputs": []
    },
    {
      "cell_type": "code",
      "source": [
        "class SelectAtMostKBest(SelectKBest):\n",
        "    def _check_params(self, X, y):\n",
        "        if not (self.k == \"all\" or 0 <= self.k <= X.shape[1]):\n",
        "            # set k to \"all\" (skip feature selection), if less than k features are available\n",
        "            self.k = \"all\""
      ],
      "metadata": {
        "id": "NTRrhiEyIGah"
      },
      "execution_count": null,
      "outputs": []
    },
    {
      "cell_type": "code",
      "source": [
        "AUC_svc=[]\n",
        "for feature in range(X.shape[1]+1):\n",
        "    # 用特定特征删除后的特征集\n",
        "    #X_drop = X.drop(X.columns[feature], axis=1)\n",
        "    skf = StratifiedKFold(n_splits=5, shuffle=True, random_state=42)\n",
        "    if feature < X.shape[1]:\n",
        "        X_drop = X.drop(X.columns[feature], axis=1)\n",
        "    else:\n",
        "        X_drop = X\n",
        "        \n",
        "    scaler = StandardScaler()\n",
        "    kbest = SelectAtMostKBest(score_func=f_classif)\n",
        "    svc = SVC(random_state=1, max_iter=-1, probability=True)\n",
        "    pipe = Pipeline(steps=[('scaler', scaler), ('kbest', kbest), ('svc', svc)])\n",
        "    # Parameter ranges\n",
        "    param_grid = { 'kbest__k': np.arange(2,X.shape[1],1),\n",
        "                    'svc__kernel': ['rbf','sigmoid','linear'],\n",
        "                    'svc__gamma': np.logspace(-9,-2,60),\n",
        "                    'svc__C': np.logspace(-3,3,60)}\n",
        "    # Optimisation\n",
        "    search = RandomizedSearchCV(pipe, param_grid, cv=skf, scoring='roc_auc', return_train_score=True, n_jobs=10, verbose=0, n_iter=1000, random_state=0)\n",
        "\n",
        "    search.fit(X_drop,y)\n",
        "    \n",
        "    best_params = search.best_params_\n",
        "    best_score = search.best_score_\n",
        "    AUC_svc.append(best_score)\n",
        "    \n",
        "    print(best_params,best_score)"
      ],
      "metadata": {
        "colab": {
          "base_uri": "https://localhost:8080/"
        },
        "id": "H7DSaUr8II-h",
        "outputId": "8deabd16-a7df-45f0-975c-0ac5b0693898"
      },
      "execution_count": null,
      "outputs": [
        {
          "output_type": "stream",
          "name": "stdout",
          "text": [
            "{'svc__kernel': 'rbf', 'svc__gamma': 4.581597669054491e-08, 'svc__C': 4.581597669054491, 'kbest__k': 30} 0.875\n",
            "{'svc__kernel': 'sigmoid', 'svc__gamma': 2.0187602546790387e-08, 'svc__C': 626.0516572014828, 'kbest__k': 35} 0.875\n",
            "{'svc__kernel': 'rbf', 'svc__gamma': 7.912342618981326e-08, 'svc__C': 0.04237587160604064, 'kbest__k': 36} 0.8767316017316016\n",
            "{'svc__kernel': 'sigmoid', 'svc__gamma': 8.895134973108219e-09, 'svc__C': 9.249147277217336, 'kbest__k': 33} 0.8732683982683982\n",
            "{'svc__kernel': 'sigmoid', 'svc__gamma': 3.1011689265747754e-07, 'svc__C': 47.639380104013405, 'kbest__k': 30} 0.8686688311688311\n",
            "{'svc__kernel': 'sigmoid', 'svc__gamma': 3.1011689265747754e-07, 'svc__C': 60.20894493336138, 'kbest__k': 34} 0.873917748917749\n",
            "{'svc__kernel': 'rbf', 'svc__gamma': 7.912342618981326e-08, 'svc__C': 0.04237587160604064, 'kbest__k': 36} 0.8687229437229437\n",
            "{'svc__kernel': 'rbf', 'svc__gamma': 2.982471286216894e-09, 'svc__C': 153.61749466718297, 'kbest__k': 34} 0.8665584415584415\n",
            "{'svc__kernel': 'rbf', 'svc__gamma': 2.982471286216894e-09, 'svc__C': 153.61749466718297, 'kbest__k': 34} 0.8772186147186147\n",
            "{'svc__kernel': 'sigmoid', 'svc__gamma': 7.318242219076182e-05, 'svc__C': 0.06768750009458535, 'kbest__k': 35} 0.8706709956709956\n",
            "{'svc__kernel': 'rbf', 'svc__gamma': 7.912342618981326e-08, 'svc__C': 0.04237587160604064, 'kbest__k': 36} 0.8665043290043289\n",
            "{'svc__kernel': 'sigmoid', 'svc__gamma': 1.1689518164985777e-08, 'svc__C': 0.08554672535565684, 'kbest__k': 36} 0.8811147186147187\n",
            "{'svc__kernel': 'rbf', 'svc__gamma': 5.150678076168122e-09, 'svc__C': 0.016608827826277157, 'kbest__k': 36} 0.8783008658008657\n",
            "{'svc__kernel': 'rbf', 'svc__gamma': 4.237587160604064e-05, 'svc__C': 0.008227241341700473, 'kbest__k': 30} 0.8761904761904763\n",
            "{'svc__kernel': 'rbf', 'svc__gamma': 1.2154742500762885e-06, 'svc__C': 4.581597669054491, 'kbest__k': 36} 0.875\n",
            "{'svc__kernel': 'sigmoid', 'svc__gamma': 3.2245905452963977e-05, 'svc__C': 0.0103979841848149, 'kbest__k': 34} 0.8818722943722943\n",
            "{'svc__kernel': 'sigmoid', 'svc__gamma': 8.895134973108219e-09, 'svc__C': 9.249147277217336, 'kbest__k': 33} 0.878896103896104\n",
            "{'svc__kernel': 'rbf', 'svc__gamma': 2.982471286216894e-09, 'svc__C': 153.61749466718297, 'kbest__k': 34} 0.8751623376623376\n",
            "{'svc__kernel': 'rbf', 'svc__gamma': 5.150678076168122e-09, 'svc__C': 0.016608827826277157, 'kbest__k': 36} 0.8762987012987015\n",
            "{'svc__kernel': 'rbf', 'svc__gamma': 4.237587160604064e-05, 'svc__C': 0.008227241341700473, 'kbest__k': 30} 0.8713203463203463\n",
            "{'svc__kernel': 'rbf', 'svc__gamma': 7.912342618981326e-08, 'svc__C': 0.04237587160604064, 'kbest__k': 36} 0.8801948051948051\n",
            "{'svc__kernel': 'rbf', 'svc__gamma': 5.150678076168122e-09, 'svc__C': 0.016608827826277157, 'kbest__k': 36} 0.8675865800865801\n",
            "{'svc__kernel': 'rbf', 'svc__gamma': 3.1011689265747754e-07, 'svc__C': 0.008227241341700473, 'kbest__k': 35} 0.8766233766233766\n",
            "{'svc__kernel': 'rbf', 'svc__gamma': 7.912342618981326e-08, 'svc__C': 0.04237587160604064, 'kbest__k': 36} 0.8739718614718616\n",
            "{'svc__kernel': 'sigmoid', 'svc__gamma': 1.1689518164985777e-08, 'svc__C': 0.08554672535565684, 'kbest__k': 36} 0.8753787878787879\n",
            "{'svc__kernel': 'sigmoid', 'svc__gamma': 1.1689518164985777e-08, 'svc__C': 0.08554672535565684, 'kbest__k': 36} 0.8756493506493506\n",
            "{'svc__kernel': 'sigmoid', 'svc__gamma': 1.5361749466718295e-08, 'svc__C': 0.0103979841848149, 'kbest__k': 35} 0.8766774891774892\n",
            "{'svc__kernel': 'rbf', 'svc__gamma': 4.237587160604064e-05, 'svc__C': 0.008227241341700473, 'kbest__k': 30} 0.8774891774891774\n",
            "{'svc__kernel': 'rbf', 'svc__gamma': 3.1011689265747754e-07, 'svc__C': 0.008227241341700473, 'kbest__k': 35} 0.8778138528138528\n",
            "{'svc__kernel': 'rbf', 'svc__gamma': 3.1011689265747754e-07, 'svc__C': 0.008227241341700473, 'kbest__k': 35} 0.8778138528138528\n",
            "{'svc__kernel': 'rbf', 'svc__gamma': 5.355666917706907e-07, 'svc__C': 3.6251170499885355, 'kbest__k': 28} 0.8742965367965368\n",
            "{'svc__kernel': 'rbf', 'svc__gamma': 5.355666917706907e-07, 'svc__C': 3.6251170499885355, 'kbest__k': 28} 0.8742965367965368\n",
            "{'svc__kernel': 'rbf', 'svc__gamma': 0.00037693909753883635, 'svc__C': 0.005150678076168122, 'kbest__k': 29} 0.8743506493506494\n",
            "{'svc__kernel': 'sigmoid', 'svc__gamma': 7.318242219076182e-05, 'svc__C': 0.00650967523045817, 'kbest__k': 31} 0.8749458874458874\n",
            "{'svc__kernel': 'sigmoid', 'svc__gamma': 1.1689518164985777e-08, 'svc__C': 0.08554672535565684, 'kbest__k': 36} 0.8813311688311689\n",
            "{'svc__kernel': 'sigmoid', 'svc__gamma': 1.1689518164985777e-08, 'svc__C': 0.08554672535565684, 'kbest__k': 36} 0.8813311688311689\n",
            "{'svc__kernel': 'rbf', 'svc__gamma': 5.150678076168122e-09, 'svc__C': 0.016608827826277157, 'kbest__k': 36} 0.8766774891774892\n",
            "{'svc__kernel': 'rbf', 'svc__gamma': 4.237587160604064e-05, 'svc__C': 0.008227241341700473, 'kbest__k': 30} 0.8761904761904763\n"
          ]
        }
      ]
    },
    {
      "cell_type": "code",
      "source": [
        "len(AUC_svc)"
      ],
      "metadata": {
        "id": "xr0XXYravycd",
        "outputId": "accce358-aa6c-4196-8160-9617bbd18bb6",
        "colab": {
          "base_uri": "https://localhost:8080/"
        }
      },
      "execution_count": null,
      "outputs": [
        {
          "output_type": "execute_result",
          "data": {
            "text/plain": [
              "38"
            ]
          },
          "metadata": {},
          "execution_count": 8
        }
      ]
    },
    {
      "cell_type": "code",
      "source": [
        "AUC_svc"
      ],
      "metadata": {
        "id": "BRpmPj7Rv2zd",
        "outputId": "ba58bc25-37f7-4c27-c9d5-d9f128701b3f",
        "colab": {
          "base_uri": "https://localhost:8080/"
        }
      },
      "execution_count": null,
      "outputs": [
        {
          "output_type": "execute_result",
          "data": {
            "text/plain": [
              "[0.875,\n",
              " 0.875,\n",
              " 0.8767316017316016,\n",
              " 0.8732683982683982,\n",
              " 0.8686688311688311,\n",
              " 0.873917748917749,\n",
              " 0.8687229437229437,\n",
              " 0.8665584415584415,\n",
              " 0.8772186147186147,\n",
              " 0.8706709956709956,\n",
              " 0.8665043290043289,\n",
              " 0.8811147186147187,\n",
              " 0.8783008658008657,\n",
              " 0.8761904761904763,\n",
              " 0.875,\n",
              " 0.8818722943722943,\n",
              " 0.878896103896104,\n",
              " 0.8751623376623376,\n",
              " 0.8762987012987015,\n",
              " 0.8713203463203463,\n",
              " 0.8801948051948051,\n",
              " 0.8675865800865801,\n",
              " 0.8766233766233766,\n",
              " 0.8739718614718616,\n",
              " 0.8753787878787879,\n",
              " 0.8756493506493506,\n",
              " 0.8766774891774892,\n",
              " 0.8774891774891774,\n",
              " 0.8778138528138528,\n",
              " 0.8778138528138528,\n",
              " 0.8742965367965368,\n",
              " 0.8742965367965368,\n",
              " 0.8743506493506494,\n",
              " 0.8749458874458874,\n",
              " 0.8813311688311689,\n",
              " 0.8813311688311689,\n",
              " 0.8766774891774892,\n",
              " 0.8761904761904763]"
            ]
          },
          "metadata": {},
          "execution_count": 9
        }
      ]
    }
  ]
}