{
  "nbformat": 4,
  "nbformat_minor": 0,
  "metadata": {
    "colab": {
      "provenance": []
    },
    "kernelspec": {
      "name": "python3",
      "display_name": "Python 3"
    },
    "language_info": {
      "name": "python"
    }
  },
  "cells": [
    {
      "cell_type": "code",
      "execution_count": null,
      "metadata": {
        "colab": {
          "base_uri": "https://localhost:8080/"
        },
        "id": "9tlhtuobI1BZ",
        "outputId": "f879610d-9897-4d20-9e31-bdd831f93dc6"
      },
      "outputs": [
        {
          "output_type": "stream",
          "name": "stdout",
          "text": [
            "Mounted at /content/gdrive\n"
          ]
        }
      ],
      "source": [
        "from google.colab import drive\n",
        "drive.mount('/content/gdrive')"
      ]
    },
    {
      "cell_type": "code",
      "source": [
        "import pandas as pd\n",
        "df = pd.read_csv('/content/gdrive/MyDrive/all.csv')\n",
        "df=df[[\"ESR1.log2.tpm\" ,\"PGR.log2.tpm\" , \"IL12RB2\",\"HORMAD1\",\"LEMD1\",\"AGR3\",\"GFRA1\",\"ANTXRL\",'NXNL2',\"SPATA4\",'RNF182',\n",
        "      \"TP53\"  , \"COL5A1\", \"GATA3\",'LYST',\n",
        "      \"Danaher.Mast.cells\" , \"Act.CD4\"  , \"MDSC\",'NK cells','Tem.CD8','CD8 T cells',\"Danaher.Neutrophils\",\"Danaher.NK.cells\",\"Monocytic lineage\" ,'Danaher.Exhausted.CD8','Danaher.CD8.T.cells','Cytotoxic lymphocytes','Danaher.Cytotoxic.cells',\n",
        "      \"Taxane.FinalScore\",\"Swanton.PaclitaxelScore\", \"Taxane.MitosisScore\" ,\"Swanton.MitosisScore\" ,\n",
        "                                     'IDO1','TIDE.TAM.M2',\"ESC.ssgsea.notnorm\",\"ESC.ssgsea.norm\"        \n",
        ",\"GGI.ssgsea.notnorm\",\"resp.pCR\"]]"
      ],
      "metadata": {
        "id": "Igq3cW-jI96H"
      },
      "execution_count": null,
      "outputs": []
    },
    {
      "cell_type": "code",
      "source": [
        "X=df.iloc[:,0:-1]\n",
        "y=df.iloc[:,-1]"
      ],
      "metadata": {
        "id": "tRiA-9MaI_5I"
      },
      "execution_count": null,
      "outputs": []
    },
    {
      "cell_type": "code",
      "source": [
        "from sklearn.datasets import load_breast_cancer\n",
        "from sklearn.ensemble import RandomForestClassifier, VotingClassifier\n",
        "from sklearn.linear_model import LogisticRegression\n",
        "from sklearn.metrics import accuracy_score,roc_auc_score\n",
        "from sklearn.svm import SVC\n",
        "from sklearn.model_selection import train_test_split\n",
        "import numpy as np\n",
        "import pandas as pd\n",
        "from sklearn.base import BaseEstimator, TransformerMixin, RegressorMixin, clone\n",
        "from sklearn.preprocessing import StandardScaler\n",
        "from sklearn.feature_selection import SelectKBest, f_classif\n",
        "from sklearn.pipeline import Pipeline\n",
        "from sklearn.model_selection import RandomizedSearchCV\n",
        "from sklearn.model_selection import StratifiedKFold, RandomizedSearchCV\n",
        "from sklearn.ensemble import RandomForestClassifier\n",
        "from sklearn.datasets import make_classification"
      ],
      "metadata": {
        "id": "_kPhEyfRI_8X"
      },
      "execution_count": null,
      "outputs": []
    },
    {
      "cell_type": "code",
      "source": [
        "class SelectAtMostKBest(SelectKBest):\n",
        "    def _check_params(self, X, y):\n",
        "        if not (self.k == \"all\" or 0 <= self.k <= X.shape[1]):\n",
        "            # set k to \"all\" (skip feature selection), if less than k features are available\n",
        "            self.k = \"all\""
      ],
      "metadata": {
        "id": "jCp6_o-XJHVm"
      },
      "execution_count": null,
      "outputs": []
    },
    {
      "cell_type": "code",
      "source": [
        "AUC_rf=[]\n",
        "for feature in range(X.shape[1]+1):\n",
        "    # 用特定特征删除后的特征集\n",
        "    #X_drop = X.drop(X.columns[feature], axis=1)\n",
        "    skf = StratifiedKFold(n_splits=5, shuffle=True, random_state=42)\n",
        "    if feature < X.shape[1]:\n",
        "        X_drop = X.drop(X.columns[feature], axis=1)\n",
        "    else:\n",
        "        X_drop = X\n",
        "        \n",
        "    scaler = StandardScaler()\n",
        "    kbest = SelectAtMostKBest(score_func=f_classif)\n",
        "    rf = RandomForestClassifier(random_state=1)\n",
        "    pipe = Pipeline(steps=[('scaler', scaler), ('kbest', kbest), ('rf', rf)])\n",
        "    # Parameter ranges\n",
        "    param_grid = { 'kbest__k': range(1,X.shape[1]),\n",
        "                    \"rf__max_depth\": [3, None],\n",
        "                    \"rf__n_estimators\": [5, 10, 25, 50, 100],\n",
        "                    \"rf__max_features\": [0.05, 0.1, 0.2, 0.5, 0.7],\n",
        "                    \"rf__min_samples_split\": [2, 3, 6, 10, 12, 15]\n",
        "                    }\n",
        "    # Optimisation\n",
        "    search = RandomizedSearchCV(pipe, param_grid, cv=skf, scoring='roc_auc', return_train_score=True, n_jobs=10, verbose=0, n_iter=1000, random_state=0)\n",
        "\n",
        "    search.fit(X_drop,y)\n",
        "    \n",
        "    best_params = search.best_params_\n",
        "    best_score = search.best_score_\n",
        "    AUC_rf.append(best_score)\n",
        "    \n",
        "    print(best_params,best_score)"
      ],
      "metadata": {
        "colab": {
          "base_uri": "https://localhost:8080/"
        },
        "id": "gN4ccSYTJHkM",
        "outputId": "8b4c8fe5-74a1-44b3-e0e9-f3a1155f4bb1"
      },
      "execution_count": null,
      "outputs": [
        {
          "output_type": "stream",
          "name": "stdout",
          "text": [
            "{'rf__n_estimators': 25, 'rf__min_samples_split': 12, 'rf__max_features': 0.05, 'rf__max_depth': None, 'kbest__k': 16} 0.854491341991342\n",
            "{'rf__n_estimators': 10, 'rf__min_samples_split': 3, 'rf__max_features': 0.1, 'rf__max_depth': 3, 'kbest__k': 13} 0.8636363636363636\n",
            "{'rf__n_estimators': 50, 'rf__min_samples_split': 12, 'rf__max_features': 0.2, 'rf__max_depth': None, 'kbest__k': 29} 0.8537878787878788\n",
            "{'rf__n_estimators': 25, 'rf__min_samples_split': 2, 'rf__max_features': 0.1, 'rf__max_depth': None, 'kbest__k': 19} 0.8537878787878788\n",
            "{'rf__n_estimators': 5, 'rf__min_samples_split': 6, 'rf__max_features': 0.1, 'rf__max_depth': None, 'kbest__k': 10} 0.8500000000000002\n",
            "{'rf__n_estimators': 50, 'rf__min_samples_split': 6, 'rf__max_features': 0.05, 'rf__max_depth': None, 'kbest__k': 28} 0.8517857142857143\n",
            "{'rf__n_estimators': 5, 'rf__min_samples_split': 6, 'rf__max_features': 0.05, 'rf__max_depth': None, 'kbest__k': 14} 0.8528138528138527\n",
            "{'rf__n_estimators': 10, 'rf__min_samples_split': 15, 'rf__max_features': 0.05, 'rf__max_depth': 3, 'kbest__k': 36} 0.849025974025974\n",
            "{'rf__n_estimators': 100, 'rf__min_samples_split': 15, 'rf__max_features': 0.05, 'rf__max_depth': 3, 'kbest__k': 36} 0.8574675324675326\n",
            "{'rf__n_estimators': 100, 'rf__min_samples_split': 15, 'rf__max_features': 0.05, 'rf__max_depth': 3, 'kbest__k': 36} 0.8563311688311689\n",
            "{'rf__n_estimators': 10, 'rf__min_samples_split': 12, 'rf__max_features': 0.7, 'rf__max_depth': None, 'kbest__k': 10} 0.8553571428571429\n",
            "{'rf__n_estimators': 100, 'rf__min_samples_split': 15, 'rf__max_features': 0.05, 'rf__max_depth': 3, 'kbest__k': 36} 0.8617965367965368\n",
            "{'rf__n_estimators': 100, 'rf__min_samples_split': 15, 'rf__max_features': 0.05, 'rf__max_depth': 3, 'kbest__k': 36} 0.8582251082251082\n",
            "{'rf__n_estimators': 100, 'rf__min_samples_split': 15, 'rf__max_features': 0.05, 'rf__max_depth': 3, 'kbest__k': 36} 0.8554653679653679\n",
            "{'rf__n_estimators': 100, 'rf__min_samples_split': 15, 'rf__max_features': 0.05, 'rf__max_depth': 3, 'kbest__k': 36} 0.8614718614718615\n",
            "{'rf__n_estimators': 100, 'rf__min_samples_split': 15, 'rf__max_features': 0.05, 'rf__max_depth': 3, 'kbest__k': 36} 0.8591450216450216\n",
            "{'rf__n_estimators': 100, 'rf__min_samples_split': 15, 'rf__max_features': 0.05, 'rf__max_depth': 3, 'kbest__k': 36} 0.8579004329004327\n",
            "{'rf__n_estimators': 100, 'rf__min_samples_split': 15, 'rf__max_features': 0.05, 'rf__max_depth': 3, 'kbest__k': 36} 0.8617965367965368\n",
            "{'rf__n_estimators': 25, 'rf__min_samples_split': 3, 'rf__max_features': 0.05, 'rf__max_depth': None, 'kbest__k': 36} 0.864069264069264\n",
            "{'rf__n_estimators': 100, 'rf__min_samples_split': 15, 'rf__max_features': 0.05, 'rf__max_depth': 3, 'kbest__k': 36} 0.8505952380952382\n",
            "{'rf__n_estimators': 25, 'rf__min_samples_split': 3, 'rf__max_features': 0.05, 'rf__max_depth': None, 'kbest__k': 36} 0.8542478354978356\n",
            "{'rf__n_estimators': 50, 'rf__min_samples_split': 10, 'rf__max_features': 0.1, 'rf__max_depth': 3, 'kbest__k': 19} 0.8498376623376623\n",
            "{'rf__n_estimators': 50, 'rf__min_samples_split': 12, 'rf__max_features': 0.05, 'rf__max_depth': None, 'kbest__k': 31} 0.8541666666666667\n",
            "{'rf__n_estimators': 25, 'rf__min_samples_split': 6, 'rf__max_features': 0.05, 'rf__max_depth': None, 'kbest__k': 24} 0.8487554112554111\n",
            "{'rf__n_estimators': 50, 'rf__min_samples_split': 12, 'rf__max_features': 0.05, 'rf__max_depth': None, 'kbest__k': 31} 0.8521645021645021\n",
            "{'rf__n_estimators': 5, 'rf__min_samples_split': 12, 'rf__max_features': 0.2, 'rf__max_depth': None, 'kbest__k': 29} 0.8610660173160174\n",
            "{'rf__n_estimators': 50, 'rf__min_samples_split': 12, 'rf__max_features': 0.05, 'rf__max_depth': None, 'kbest__k': 31} 0.8520021645021645\n",
            "{'rf__n_estimators': 5, 'rf__min_samples_split': 12, 'rf__max_features': 0.2, 'rf__max_depth': None, 'kbest__k': 29} 0.8494047619047619\n",
            "{'rf__n_estimators': 10, 'rf__min_samples_split': 2, 'rf__max_features': 0.05, 'rf__max_depth': 3, 'kbest__k': 10} 0.8590367965367965\n",
            "{'rf__n_estimators': 10, 'rf__min_samples_split': 2, 'rf__max_features': 0.05, 'rf__max_depth': 3, 'kbest__k': 10} 0.8590367965367965\n",
            "{'rf__n_estimators': 10, 'rf__min_samples_split': 15, 'rf__max_features': 0.05, 'rf__max_depth': None, 'kbest__k': 36} 0.8630952380952379\n",
            "{'rf__n_estimators': 10, 'rf__min_samples_split': 15, 'rf__max_features': 0.05, 'rf__max_depth': None, 'kbest__k': 36} 0.8630952380952379\n",
            "{'rf__n_estimators': 10, 'rf__min_samples_split': 15, 'rf__max_features': 0.05, 'rf__max_depth': None, 'kbest__k': 36} 0.855952380952381\n",
            "{'rf__n_estimators': 10, 'rf__min_samples_split': 10, 'rf__max_features': 0.05, 'rf__max_depth': 3, 'kbest__k': 23} 0.8606601731601732\n",
            "{'rf__n_estimators': 25, 'rf__min_samples_split': 12, 'rf__max_features': 0.05, 'rf__max_depth': None, 'kbest__k': 22} 0.8668831168831168\n",
            "{'rf__n_estimators': 25, 'rf__min_samples_split': 12, 'rf__max_features': 0.05, 'rf__max_depth': None, 'kbest__k': 22} 0.8668831168831168\n",
            "{'rf__n_estimators': 10, 'rf__min_samples_split': 15, 'rf__max_features': 0.2, 'rf__max_depth': None, 'kbest__k': 32} 0.8581709956709958\n",
            "{'rf__n_estimators': 100, 'rf__min_samples_split': 15, 'rf__max_features': 0.05, 'rf__max_depth': 3, 'kbest__k': 36} 0.8579004329004327\n"
          ]
        }
      ]
    },
    {
      "cell_type": "code",
      "source": [
        "AUC_rf"
      ],
      "metadata": {
        "id": "-lcPHnIPGSUi",
        "outputId": "15b80117-a168-4ad7-f427-e79a27087194",
        "colab": {
          "base_uri": "https://localhost:8080/"
        }
      },
      "execution_count": null,
      "outputs": [
        {
          "output_type": "execute_result",
          "data": {
            "text/plain": [
              "[0.854491341991342,\n",
              " 0.8636363636363636,\n",
              " 0.8537878787878788,\n",
              " 0.8537878787878788,\n",
              " 0.8500000000000002,\n",
              " 0.8517857142857143,\n",
              " 0.8528138528138527,\n",
              " 0.849025974025974,\n",
              " 0.8574675324675326,\n",
              " 0.8563311688311689,\n",
              " 0.8553571428571429,\n",
              " 0.8617965367965368,\n",
              " 0.8582251082251082,\n",
              " 0.8554653679653679,\n",
              " 0.8614718614718615,\n",
              " 0.8591450216450216,\n",
              " 0.8579004329004327,\n",
              " 0.8617965367965368,\n",
              " 0.864069264069264,\n",
              " 0.8505952380952382,\n",
              " 0.8542478354978356,\n",
              " 0.8498376623376623,\n",
              " 0.8541666666666667,\n",
              " 0.8487554112554111,\n",
              " 0.8521645021645021,\n",
              " 0.8610660173160174,\n",
              " 0.8520021645021645,\n",
              " 0.8494047619047619,\n",
              " 0.8590367965367965,\n",
              " 0.8590367965367965,\n",
              " 0.8630952380952379,\n",
              " 0.8630952380952379,\n",
              " 0.855952380952381,\n",
              " 0.8606601731601732,\n",
              " 0.8668831168831168,\n",
              " 0.8668831168831168,\n",
              " 0.8581709956709958,\n",
              " 0.8579004329004327]"
            ]
          },
          "metadata": {},
          "execution_count": 7
        }
      ]
    }
  ]
}