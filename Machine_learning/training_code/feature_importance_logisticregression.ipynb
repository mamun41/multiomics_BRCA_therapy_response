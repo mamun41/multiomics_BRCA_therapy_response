{
  "cells": [
    {
      "cell_type": "code",
      "execution_count": null,
      "metadata": {
        "colab": {
          "base_uri": "https://localhost:8080/"
        },
        "id": "7ybZUXSR2hOQ",
        "outputId": "6a945cfe-9df4-4414-8877-59eae3d2ccd6"
      },
      "outputs": [
        {
          "name": "stdout",
          "output_type": "stream",
          "text": [
            "Mounted at /content/gdrive\n"
          ]
        }
      ],
      "source": [
        "from google.colab import drive\n",
        "drive.mount('/content/gdrive')"
      ]
    },
    {
      "cell_type": "code",
      "execution_count": null,
      "metadata": {
        "id": "raD4Bv_A21ZO"
      },
      "outputs": [],
      "source": [
        "import pandas as pd\n",
        "df = pd.read_csv('/content/gdrive/MyDrive/all.csv')\n",
        "df=df[[\"ESR1.log2.tpm\" ,\"PGR.log2.tpm\" , \"IL12RB2\",\"HORMAD1\",\"LEMD1\",\"AGR3\",\"GFRA1\",\"ANTXRL\",'NXNL2',\"SPATA4\",'RNF182',\n",
        "      \"TP53\"  , \"COL5A1\", \"GATA3\",'LYST',\n",
        "      \"Danaher.Mast.cells\" , \"Act.CD4\"  , \"MDSC\",'NK cells','Tem.CD8','CD8 T cells',\"Danaher.Neutrophils\",\"Danaher.NK.cells\",\"Monocytic lineage\" ,'Danaher.Exhausted.CD8','Danaher.CD8.T.cells','Cytotoxic lymphocytes','Danaher.Cytotoxic.cells',\n",
        "      \"Taxane.FinalScore\",\"Swanton.PaclitaxelScore\", \"Taxane.MitosisScore\" ,\"Swanton.MitosisScore\" ,\n",
        "                                     'IDO1','TIDE.TAM.M2',\"ESC.ssgsea.notnorm\",\"ESC.ssgsea.norm\"        \n",
        ",\"GGI.ssgsea.notnorm\",\"resp.pCR\"]]"
      ]
    },
    {
      "cell_type": "code",
      "execution_count": null,
      "metadata": {
        "id": "cKVWAtvw3TXk"
      },
      "outputs": [],
      "source": [
        "X=df.iloc[:,0:-1]\n",
        "y=df.iloc[:,-1]"
      ]
    },
    {
      "cell_type": "code",
      "execution_count": null,
      "metadata": {
        "id": "W5nrJYNb3X_o"
      },
      "outputs": [],
      "source": [
        "from sklearn.datasets import load_breast_cancer\n",
        "from sklearn.ensemble import RandomForestClassifier, VotingClassifier\n",
        "from sklearn.linear_model import LogisticRegression\n",
        "from sklearn.metrics import accuracy_score,roc_auc_score\n",
        "from sklearn.svm import SVC\n",
        "from sklearn.model_selection import train_test_split\n",
        "import numpy as np\n",
        "import pandas as pd\n",
        "from sklearn.base import BaseEstimator, TransformerMixin, RegressorMixin, clone\n",
        "from sklearn.preprocessing import StandardScaler\n",
        "from sklearn.feature_selection import SelectKBest, f_classif\n",
        "from sklearn.pipeline import Pipeline\n",
        "from sklearn.model_selection import RandomizedSearchCV\n",
        "from sklearn.model_selection import StratifiedKFold, RandomizedSearchCV\n",
        "from sklearn.ensemble import RandomForestClassifier\n",
        "from sklearn.datasets import make_classification"
      ]
    },
    {
      "cell_type": "code",
      "execution_count": null,
      "metadata": {
        "id": "yqTbb2s5316g"
      },
      "outputs": [],
      "source": [
        "class SelectAtMostKBest(SelectKBest):\n",
        "    def _check_params(self, X, y):\n",
        "        if not (self.k == \"all\" or 0 <= self.k <= X.shape[1]):\n",
        "            # set k to \"all\" (skip feature selection), if less than k features are available\n",
        "            self.k = \"all\""
      ]
    },
    {
      "cell_type": "code",
      "execution_count": null,
      "metadata": {
        "colab": {
          "background_save": true,
          "base_uri": "https://localhost:8080/"
        },
        "id": "KEUs_ciC3w-n",
        "outputId": "3ab3b984-62ea-4e98-b79f-583459548c54"
      },
      "outputs": [
        {
          "name": "stdout",
          "output_type": "stream",
          "text": [
            "{'logres__l1_ratio': 0.1, 'logres__C': 0.18873918221350977, 'kbest__k': 35} 0.8713203463203463\n",
            "{'logres__l1_ratio': 0.1, 'logres__C': 0.3039195382313198, 'kbest__k': 34} 0.8787337662337663\n",
            "{'logres__l1_ratio': 0.1, 'logres__C': 0.18873918221350977, 'kbest__k': 35} 0.8710497835497835\n",
            "{'logres__l1_ratio': 0.1, 'logres__C': 0.3039195382313198, 'kbest__k': 34} 0.8724025974025974\n",
            "{'logres__l1_ratio': 0.1, 'logres__C': 0.18873918221350977, 'kbest__k': 35} 0.8695346320346321\n",
            "{'logres__l1_ratio': 0.1, 'logres__C': 0.18873918221350977, 'kbest__k': 35} 0.8767857142857144\n",
            "{'logres__l1_ratio': 0.1, 'logres__C': 0.3039195382313198, 'kbest__k': 34} 0.8683982683982684\n",
            "{'logres__l1_ratio': 0.1, 'logres__C': 0.3039195382313198, 'kbest__k': 34} 0.8592532467532468\n",
            "{'logres__l1_ratio': 0.1, 'logres__C': 0.18873918221350977, 'kbest__k': 35} 0.8712662337662337\n",
            "{'logres__l1_ratio': 0.1, 'logres__C': 0.3039195382313198, 'kbest__k': 34} 0.8624458874458873\n",
            "{'logres__l1_ratio': 0.1, 'logres__C': 0.11721022975334805, 'kbest__k': 34} 0.8601731601731603\n",
            "{'logres__l1_ratio': 0.1, 'logres__C': 0.0727895384398315, 'kbest__k': 35} 0.8665043290043289\n",
            "{'logres__l1_ratio': 0.1, 'logres__C': 0.11721022975334805, 'kbest__k': 34} 0.8591450216450218\n",
            "{'logres__l1_ratio': 0.1, 'logres__C': 0.18873918221350977, 'kbest__k': 35} 0.8698593073593074\n",
            "{'logres__l1_ratio': 0.1, 'logres__C': 0.18873918221350977, 'kbest__k': 35} 0.8764069264069263\n",
            "{'logres__l1_ratio': 0.1, 'logres__C': 0.18873918221350977, 'kbest__k': 35} 0.8712662337662337\n",
            "{'logres__l1_ratio': 0.1, 'logres__C': 0.18873918221350977, 'kbest__k': 35} 0.8711580086580085\n",
            "{'logres__l1_ratio': 0.1, 'logres__C': 0.18873918221350977, 'kbest__k': 35} 0.8711580086580085\n",
            "{'logres__l1_ratio': 0.1, 'logres__C': 0.18873918221350977, 'kbest__k': 35} 0.8691558441558442\n",
            "{'logres__l1_ratio': 0.1, 'logres__C': 0.18873918221350977, 'kbest__k': 35} 0.8700216450216448\n",
            "{'logres__l1_ratio': 0.1, 'logres__C': 0.18873918221350977, 'kbest__k': 35} 0.8734848484848484\n",
            "{'logres__l1_ratio': 0.1, 'logres__C': 0.04520353656360243, 'kbest__k': 35} 0.8528138528138529\n",
            "{'logres__l1_ratio': 0.1, 'logres__C': 0.18873918221350977, 'kbest__k': 35} 0.8697510822510821\n",
            "{'logres__l1_ratio': 0.1, 'logres__C': 0.11721022975334805, 'kbest__k': 34} 0.8699675324675324\n",
            "{'logres__l1_ratio': 0.1, 'logres__C': 0.18873918221350977, 'kbest__k': 35} 0.8711580086580085\n",
            "{'logres__l1_ratio': 0.1, 'logres__C': 0.18873918221350977, 'kbest__k': 35} 0.870995670995671\n",
            "{'logres__l1_ratio': 0.1, 'logres__C': 0.11721022975334805, 'kbest__k': 34} 0.871103896103896\n",
            "{'logres__l1_ratio': 0.1, 'logres__C': 0.18873918221350977, 'kbest__k': 35} 0.8700216450216448\n",
            "{'logres__l1_ratio': 0.1, 'logres__C': 0.18873918221350977, 'kbest__k': 35} 0.8711580086580085\n",
            "{'logres__l1_ratio': 0.1, 'logres__C': 0.18873918221350977, 'kbest__k': 35} 0.8711580086580085\n",
            "{'logres__l1_ratio': 0.1, 'logres__C': 0.18873918221350977, 'kbest__k': 35} 0.870995670995671\n",
            "{'logres__l1_ratio': 0.1, 'logres__C': 0.18873918221350977, 'kbest__k': 35} 0.870995670995671\n",
            "{'logres__l1_ratio': 0.1, 'logres__C': 0.18873918221350977, 'kbest__k': 35} 0.8698593073593074\n",
            "{'logres__l1_ratio': 0.1, 'logres__C': 0.18873918221350977, 'kbest__k': 35} 0.8708333333333333\n",
            "{'logres__l1_ratio': 0.1, 'logres__C': 0.18873918221350977, 'kbest__k': 35} 0.8711580086580085\n",
            "{'logres__l1_ratio': 0.1, 'logres__C': 0.18873918221350977, 'kbest__k': 35} 0.8711580086580085\n",
            "{'logres__l1_ratio': 0.1, 'logres__C': 0.18873918221350977, 'kbest__k': 35} 0.8722943722943721\n",
            "{'logres__l1_ratio': 0.1, 'logres__C': 0.18873918221350977, 'kbest__k': 36} 0.8711580086580085\n"
          ]
        }
      ],
      "source": [
        "AUC_log=[]\n",
        "for feature in range(X.shape[1]+1):\n",
        "    # 用特定特征删除后的特征集\n",
        "    #X_drop = X.drop(X.columns[feature], axis=1)\n",
        "    skf = StratifiedKFold(n_splits=5, shuffle=True, random_state=42)\n",
        "    if feature < X.shape[1]:\n",
        "        X_drop = X.drop(X.columns[feature], axis=1)\n",
        "    else:\n",
        "        X_drop = X\n",
        "        \n",
        "    scaler = StandardScaler()\n",
        "    kbest = SelectAtMostKBest(score_func=f_classif)\n",
        "    logres = LogisticRegression(random_state=1, penalty='elasticnet', solver='saga', max_iter=10000, n_jobs=10,class_weight='balanced')\n",
        "    pipe = Pipeline(steps=[('scaler', scaler), ('kbest', kbest), ('logres', logres)])\n",
        "    # Parameter ranges\n",
        "    param_grid = { 'kbest__k': np.arange(2,X_drop.shape[1],1),\n",
        "                    'logres__C': np.logspace(-3,3,30),\n",
        "                    'logres__l1_ratio': np.arange(0.1,1.1,0.1) }\n",
        "    # Optimisation\n",
        "    search = RandomizedSearchCV(pipe, param_grid, cv=skf, scoring='roc_auc', return_train_score=True, n_jobs=10, verbose=0, n_iter=1000, random_state=0)\n",
        "\n",
        "    search.fit(X_drop,y)\n",
        "    \n",
        "    best_params = search.best_params_\n",
        "    best_score = search.best_score_\n",
        "    AUC_log.append(best_score)\n",
        "    \n",
        "    print(best_params,best_score)"
      ]
    }
  ],
  "metadata": {
    "colab": {
      "provenance": []
    },
    "kernelspec": {
      "display_name": "Python 3",
      "name": "python3"
    },
    "language_info": {
      "name": "python"
    }
  },
  "nbformat": 4,
  "nbformat_minor": 0
}